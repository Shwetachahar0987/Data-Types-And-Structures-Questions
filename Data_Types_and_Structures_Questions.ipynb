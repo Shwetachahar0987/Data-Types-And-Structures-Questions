{
  "nbformat": 4,
  "nbformat_minor": 0,
  "metadata": {
    "colab": {
      "provenance": []
    },
    "kernelspec": {
      "name": "python3",
      "display_name": "Python 3"
    },
    "language_info": {
      "name": "python"
    }
  },
  "cells": [
    {
      "cell_type": "code",
      "execution_count": null,
      "metadata": {
        "id": "tAgIqUOv3bQ9"
      },
      "outputs": [],
      "source": []
    },
    {
      "cell_type": "markdown",
      "source": [
        "Q1. What are Data structures, and why they are important?\n",
        "   - Data structures are specialized formats for organizing, storing, and\n",
        "   accessing collections of data. They provide efficient ways to manage information based on its characteristics and intended use.\n",
        "   Think of them as containers that hold your data and determine how you can interact with it. Different containers are better suited for different types of items.\n",
        "   They are important because:\n",
        "   Choosing the right data structure significantly impacts the efficiency and performance of your program.\n",
        "   Well-chosen data structures can:\n",
        "   Simplify data manipulation (adding, removing, modifying elements)\n",
        "   Optimize searching and sorting operations\n",
        "   Conserve memory usage.\n",
        "\n",
        "Q2. What is the difference between mutable and immutable data types with examples.\n",
        "    - Mutable data types can be changed after creation — meaning their content (values or elements) can be modified in-place.\n",
        "     Examples in Python: list, dict(dictionary), set, bytearray\n",
        "     Immutable data types cannot be changed once they are created. Any modification results in a new object being created.\n",
        "     Examples in Python: int, float, str(string), tuple, frozenset, bytes\n",
        "\n",
        "Q3. What are the main differences between lists and tuples in Python?\n",
        "    - Lists are mutable, meaning you can change, add, or remove elements after\n",
        "     the list is created.\n",
        "     Tuples are immutable, so once they’re created, their contents cannot be changed.\n",
        "     Lists use square brackets: [1, 2, 3]\n",
        "     Tuples use parentheses: (1, 2, 3)\n",
        "     Tuples are generally faster and use less memory than lists because they are immutable.\n",
        "     Lists have more built-in methods like append(), pop(), and remove() because they are meant to be modified.\n",
        "     Tuples have fewer methods, mainly count() and index().\n",
        "\n",
        "Q4. Describe how dictionaries store data?\n",
        "    - In Python, dictionaries store data as key-value pairs. Each key is  \n",
        "     unique, and it maps to a specific value.Keys must be immutable (e.g., strings, numbers, tuples).Values can be any data type (even other dictionaries or lists).\n",
        "\n",
        "Q5. Why might you use a set instead of a list in Python?\n",
        "    - Use a set when you want unique items, need fast lookups, or plan to use\n",
        "      set operations like unions or intersections.\n",
        "\n",
        "Q6. What is a string in Python, and how is it different from a list?\n",
        "    - In strings, characters arranged in an unchangeable order. Consider writing a sentence, a paragraph, or a piece of material.Each character in the string can be accessed by its index, or position. Substrings can be extracted using slicing. Strings can be joined together and altered using a variety of techniques (find, replace, etc.).      \n",
        "     A string holds characters.A list can hold any data types (integers, strings, even other lists). Strings are immutable. Lists are mutable.\n",
        "\n",
        "Q7. How do tuples ensure data integrity in Pyhton?\n",
        "    - Once a tuple is created, its elements cannot be changed, added, or removed. This immutability is the key reason tuples help maintain data integrity.Since tuples can't be modified, you can be confident that the data they hold will stay the same throughout the program.This is especially useful for constants or configuration values that should never be altered.Tuples can be hashed (if they contain only immutable elements), so they can be used as keys in dictionaries or elements in sets — unlike lists.\n",
        "     This makes them suitable for representing fixed, reliable identifiers.\n",
        "\n",
        "Q8. What is a hash table, and how does it relate to dictionaries in Python?\n",
        "    - A hash table is a data structure that stores key-value pairs and allows\n",
        "     for very fast data retrieval — on average, in constant time.\n",
        "     A hash table is the underlying data structure behind Python dictionaries, enabling them to store and access key-value pairs quickly and efficiently by hashing keys to specific memory locations.\n",
        "\n",
        "Q9. Can lists contain different data types in Python?\n",
        "    - Yes, lists in Python can contain different data types.\n",
        "\n",
        "Q10. Explain why strings are immutable in Python?\n",
        "     - Strings are immutable in Python because once a string is created, its contents cannot be changed. Python internally reuses immutable objects (like strings) to save memory.Immutable objects like strings are hashable, meaning they can be used as keys in dictionaries or elements in sets.Strings are immutable in Python to make them efficient, safe, hashable, and reliable. This design helps with memory management, program stability, and performance.\n",
        "    \n",
        "Q11. What advantages do dictionaries offer over lists for certain tasks?\n",
        "     - Dictionaries in Python offer several key advantages over lists for certain types of tasks-\n",
        "     Dictionaries use a hash table, allowing you to retrieve values by key in constant time (O(1) on average).Lists require a linear search (O(n)) to find an item.\n",
        "     With lists, you must remember or track the index of elements.\n",
        "     Dictionaries let you access values directly by name/key.\n",
        "     Keys in dictionaries are unique, which helps in maintaining data integrity.\n",
        "     Lists can contain duplicates, which may require extra logic to manage.\n",
        "\n",
        "Q12. Describe a scenario where using a tuple would be preferavble over a list?\n",
        "     - A tuple is preferable over a list in Python when you need to store a fixed, unchangeable group of related values — especially when data integrity, performance, or hashability is important.\n",
        "     Imagine you're writing a function that returns coordinates:\n",
        "\n",
        "\n",
        "def get_coordinates():\n",
        "    return (40.7128, -74.0060)  # Latitude and longitude as a tuple\n",
        "    \n",
        "     Here:\n",
        "\n",
        "     The data is fixed- latitude and longitude values won't need to change after being returned.\n",
        "     Immutability protects integrity-prevents accidental modifications to coordinate values.\n",
        "     Performance- tuples are slightly faster and use less memory than lists.\n",
        "     Hashable - the tuple can be used as a key in a dictionary or stored in a set.\n",
        "\n",
        "\n",
        "location = get_coordinates()\n",
        "city_lookup = {location: \"New York\"}  # ✅ Works because tuple is hashable\n",
        "\n",
        "Q13. How do sets handle duplicate values in Pyhton?\n",
        "     - Sets in Python automatically remove duplicates, ensuring all elements are unique.If you try to add a duplicate value, Python will not raise an error, but the set will only store one instance of that value.\n",
        "\n",
        "Q14. How does the \"in\" keyword work differently for lists and dictionaries?\n",
        "     - For Lists:\n",
        "      The in keyword checks if a value exists anywhere in the list.\n",
        "      Python performs a linear search through the list.\n",
        "      Time complexity is O(n) (slower for large lists).\n",
        "      For Dictionaries:\n",
        "      The in keyword checks if a key exists in the dictionary — not the values.\n",
        "      Python uses the dictionary’s hash table, so the lookup is very fast (average O(1)).\n",
        "\n",
        "Q15. Can you modify the elements of a tuple ? Explain why or why not?\n",
        "    - Tuples cannot be modified beacause they are immutable. Once a tuple is\n",
        "     created, its contents cannot be changed, added, or removed.\n",
        "     This means you cannot change individual elements or alter the tuple's size.\n",
        "\n",
        "Q16. What is a nested dictionary, and give an example of its use case?\n",
        "     - Nested dictionary means dictionary inside another dictionary.A nested dictionary in Python is a dictionary where one or more values are themselves dictionaries. This allows you to represent more complex, hierarchical data structures.\n",
        "     Use Case:\n",
        "     Storing information about multiple entities with attributes that themselves have sub-attributes.\n",
        "\n",
        "     For example:\n",
        "\n",
        "     A database of users where each user has personal info and nested preferences/settings.\n",
        "     Configuration files where settings are grouped into categories.\n",
        "     Representing JSON data with multiple levels.\n",
        "\n",
        "company = {\n",
        "    \"employee1\": {\n",
        "        \"name\": \"John\",\n",
        "        \"department\": \"Sales\",\n",
        "        \"salary\": 50000\n",
        "    },\n",
        "    \"employee2\": {\n",
        "        \"name\": \"Sara\",\n",
        "        \"department\": \"HR\",\n",
        "        \"salary\": 60000\n",
        "    }\n",
        "}\n",
        "print(company[\"employee2\"][\"department\"])  # Output: HR\n",
        "\n",
        "\n",
        "Q17. Describe the time complexity of accesssing elements in a dictionary?\n",
        "     - Accessing elements in a Python dictionary generally has a time  \n",
        "      complexity of O(1) — that is, constant time on average.\n",
        "\n",
        "Q18. In what situations are lists preferred over dictionaries?\n",
        "     - Lists are preferred over dictionaries in Python when:\n",
        "       -You Need Ordered Data\n",
        "       -Index-Based Access is Needed\n",
        "       -The Data Has No Unique Key\n",
        "       -You Need to Store Duplicates\n",
        "       -Ordering or Sorting Is Important\n",
        "\n",
        "Q19. Why are dictionaries considered unordered, and how does that affect data retrieval?\n",
        "     - Dictionaries were considered unordered in Python because they did not preserve the order in which key-value pairs were inserted. The primary access mechanism is by key, not position or index. You can't access dictionary items by numeric index (e.g., dict[0] won't work).\n",
        "     The structure is optimized for fast key-based lookup, not for ordered access or position-based retrieval.\n",
        "\n",
        "Q20. Explain the difference between a list and a dictionary in terms of data retrieval.\n",
        "     - The key difference between a list and a dictionary in terms of data retrieval lies in how you access the data and what you use to retrieve it:\n",
        "     List- Indexed Retrieval\n",
        "     Data is accessed by position (index).\n",
        "     You retrieve items using integer indices starting from 0.\n",
        "     Time complexity: O(1) for access by index.\n",
        "     Dictionary - Key-Based Retrieval\n",
        "     Data is accessed by key (not position).\n",
        "     You retrieve values using unique keys, which are usually strings or numbers.\n",
        "     Time complexity: O(1) on average (uses a hash table).\n",
        "\n",
        "              \n",
        "\n",
        "\n",
        "\n",
        "   -    "
      ],
      "metadata": {
        "id": "CpIaDNmZ0Bp6"
      }
    },
    {
      "cell_type": "code",
      "source": [
        "#Q1. Write a code to create a string with your name and print it.#\n",
        "\n",
        "my_name = \"Shweta\"\n",
        "\n",
        "# Print the string\n",
        "print(\"My name is:\", my_name)"
      ],
      "metadata": {
        "colab": {
          "base_uri": "https://localhost:8080/"
        },
        "id": "ksPF91xxPZ3L",
        "outputId": "76e4fb1d-1dff-45d4-a20e-95ab886a4d5d"
      },
      "execution_count": 2,
      "outputs": [
        {
          "output_type": "stream",
          "name": "stdout",
          "text": [
            "My name is: Shweta\n"
          ]
        }
      ]
    },
    {
      "cell_type": "code",
      "source": [
        "#Q2. Write a code to find the length of the string \"Hello World\".#\n",
        "\n",
        "text = \"Hello World\"\n",
        "print(len(text))\n"
      ],
      "metadata": {
        "colab": {
          "base_uri": "https://localhost:8080/"
        },
        "id": "CwGh4ikMQImb",
        "outputId": "8a5b36b8-b1fb-48aa-fd24-cebb7dc53b8b"
      },
      "execution_count": 3,
      "outputs": [
        {
          "output_type": "stream",
          "name": "stdout",
          "text": [
            "11\n"
          ]
        }
      ]
    },
    {
      "cell_type": "code",
      "source": [
        "#Q3. Write a code to slice the first 3 characters from the string \"Python Programming\"#\n",
        "\n",
        "text = \"Python Programming\"\n",
        "\n",
        "sliced_text = text[:3]\n",
        "print(sliced_text)"
      ],
      "metadata": {
        "colab": {
          "base_uri": "https://localhost:8080/"
        },
        "id": "m1XRO029QpU4",
        "outputId": "76c7a647-9f6d-4568-da76-f21bfe4249d0"
      },
      "execution_count": 5,
      "outputs": [
        {
          "output_type": "stream",
          "name": "stdout",
          "text": [
            "Pyt\n"
          ]
        }
      ]
    },
    {
      "cell_type": "code",
      "source": [
        "#Q4. Write a code to convert the string \"hello\" to the uppercase.#\n",
        "\n",
        "text = \"hello\"\n",
        "\n",
        "uppercase_text=text.upper()\n",
        "print(uppercase_text)"
      ],
      "metadata": {
        "colab": {
          "base_uri": "https://localhost:8080/"
        },
        "id": "5zJkNyiSSCHJ",
        "outputId": "e8d311ad-e919-4fb4-bbae-1b43cf1b2a51"
      },
      "execution_count": 8,
      "outputs": [
        {
          "output_type": "stream",
          "name": "stdout",
          "text": [
            "HELLO\n"
          ]
        }
      ]
    },
    {
      "cell_type": "code",
      "source": [
        "#Q5. Write a code to replace the word \"apple\" with \"orange\" in the string \"I like apple\".#\n",
        "text = \"I like apple\"\n",
        "\n",
        "\n",
        "new_text = text.replace(\"apple\", \"orange\")\n",
        "\n",
        "\n",
        "print(new_text)"
      ],
      "metadata": {
        "colab": {
          "base_uri": "https://localhost:8080/"
        },
        "id": "ZzRmGQ8nTg5O",
        "outputId": "6e236172-50ec-4174-cb8d-35bfc5971e3c"
      },
      "execution_count": 9,
      "outputs": [
        {
          "output_type": "stream",
          "name": "stdout",
          "text": [
            "I like orange\n"
          ]
        }
      ]
    },
    {
      "cell_type": "code",
      "source": [
        "#Q6. Write a code to create a list with numbers 1 to 5 and print it.#\n",
        "\n",
        "numbers = [1, 2, 3, 4, 5]\n",
        "\n",
        "print(numbers)"
      ],
      "metadata": {
        "colab": {
          "base_uri": "https://localhost:8080/"
        },
        "id": "mPNKmkkJT5w0",
        "outputId": "1f264862-8ebc-4fbb-c1f3-5a4daed4ae41"
      },
      "execution_count": 10,
      "outputs": [
        {
          "output_type": "stream",
          "name": "stdout",
          "text": [
            "[1, 2, 3, 4, 5]\n"
          ]
        }
      ]
    },
    {
      "cell_type": "code",
      "source": [
        "#Q7. Write a code to append the number 10 to the list [1,2,3,4].#\n",
        "\n",
        "numbers = [1, 2, 3, 4]\n",
        "\n",
        "numbers.append(10)\n",
        "\n",
        "print(numbers)\n"
      ],
      "metadata": {
        "colab": {
          "base_uri": "https://localhost:8080/"
        },
        "id": "6dzYDWfcUQ5k",
        "outputId": "2d33df4d-f953-4263-b007-bd0c7da5d52b"
      },
      "execution_count": 11,
      "outputs": [
        {
          "output_type": "stream",
          "name": "stdout",
          "text": [
            "[1, 2, 3, 4, 10]\n"
          ]
        }
      ]
    },
    {
      "cell_type": "code",
      "source": [
        "#Q8. Write a code to remove the number 3 from the list [1,2,3,4,5,].#\n",
        "\n",
        "numbers =[1,2,3,4,5]\n",
        "\n",
        "remove_number = numbers.remove(3)\n",
        "\n",
        "print (numbers)\n"
      ],
      "metadata": {
        "colab": {
          "base_uri": "https://localhost:8080/"
        },
        "id": "f6MvuO1MUyDy",
        "outputId": "bfe5e90d-2636-46cd-d071-1d97ace6873f"
      },
      "execution_count": 13,
      "outputs": [
        {
          "output_type": "stream",
          "name": "stdout",
          "text": [
            "[1, 2, 4, 5]\n"
          ]
        }
      ]
    },
    {
      "cell_type": "code",
      "source": [
        "#Q9. Write a code to access the second element in the list ['a', 'b', 'c', 'd'].#\n",
        "\n",
        "letters = ['a', 'b', 'c', 'd']\n",
        "\n",
        "\n",
        "second_element = letters[1]\n",
        "print(second_element)"
      ],
      "metadata": {
        "colab": {
          "base_uri": "https://localhost:8080/"
        },
        "id": "z6OGqSdSVVFC",
        "outputId": "e99aeb4c-ae92-4d26-a0f5-02b4864bfade"
      },
      "execution_count": 14,
      "outputs": [
        {
          "output_type": "stream",
          "name": "stdout",
          "text": [
            "b\n"
          ]
        }
      ]
    },
    {
      "cell_type": "code",
      "source": [
        "#Q10. Write a code to reverse the list[10,20,30,40,50].#\n",
        "\n",
        "\n",
        "numbers = [10, 20, 30, 40, 50]\n",
        "\n",
        "numbers.reverse()\n",
        "print(numbers)"
      ],
      "metadata": {
        "colab": {
          "base_uri": "https://localhost:8080/"
        },
        "id": "k6eGbjvlVt9r",
        "outputId": "84f1c764-0a32-4199-c7fa-a3cc554bd9e7"
      },
      "execution_count": 15,
      "outputs": [
        {
          "output_type": "stream",
          "name": "stdout",
          "text": [
            "[50, 40, 30, 20, 10]\n"
          ]
        }
      ]
    },
    {
      "cell_type": "code",
      "source": [
        "#Q11.Write a code to create a tuple with the elements 100, 200, 300 and print it.#\n",
        "my_tuple = (100, 200, 300)\n",
        "\n",
        "print(my_tuple)"
      ],
      "metadata": {
        "colab": {
          "base_uri": "https://localhost:8080/"
        },
        "id": "QwDs-TWxWFvM",
        "outputId": "0a0d299e-0e79-418d-a018-a5f0b335aa39"
      },
      "execution_count": 16,
      "outputs": [
        {
          "output_type": "stream",
          "name": "stdout",
          "text": [
            "(100, 200, 300)\n"
          ]
        }
      ]
    },
    {
      "cell_type": "code",
      "source": [
        "#Q12. Write a code to accesss the second-to-last element of the tuple ('red', 'green', 'blue', 'yellow').#\n",
        "\n",
        "colors = ('red', 'green', 'blue', 'yellow')\n",
        "\n",
        "second_to_last = colors[-2]\n",
        "\n",
        "print(second_to_last)\n",
        "\n"
      ],
      "metadata": {
        "colab": {
          "base_uri": "https://localhost:8080/"
        },
        "id": "ywkHuF7qWg21",
        "outputId": "884f9eeb-2fd6-43d8-930f-680688d9965b"
      },
      "execution_count": 17,
      "outputs": [
        {
          "output_type": "stream",
          "name": "stdout",
          "text": [
            "blue\n"
          ]
        }
      ]
    },
    {
      "cell_type": "code",
      "source": [
        "#Q13. Write a code to find the minimum number in the tuple (10,20,5,15).#\n",
        "numbers = (10, 20, 5, 15)\n",
        "\n",
        "min_number = min(numbers)\n",
        "\n",
        "print(min_number)"
      ],
      "metadata": {
        "colab": {
          "base_uri": "https://localhost:8080/"
        },
        "id": "moMoPiG7XGUT",
        "outputId": "cdd01254-6bfd-4f07-d97a-32efb572e416"
      },
      "execution_count": 18,
      "outputs": [
        {
          "output_type": "stream",
          "name": "stdout",
          "text": [
            "5\n"
          ]
        }
      ]
    },
    {
      "cell_type": "code",
      "source": [
        "#Q14. Write a code to find the index of the element \"cat\" in the tuple ['dog', 'cat', 'rabbit'].#\n",
        "animals = ('dog', 'cat', 'rabbit')\n",
        "\n",
        "index_cat = animals.index('cat')\n",
        "\n",
        "print(index_cat)"
      ],
      "metadata": {
        "colab": {
          "base_uri": "https://localhost:8080/"
        },
        "id": "YUGW4cD-XbFq",
        "outputId": "3b7c1980-9496-4e3f-e0b9-3f9875b703a1"
      },
      "execution_count": 19,
      "outputs": [
        {
          "output_type": "stream",
          "name": "stdout",
          "text": [
            "1\n"
          ]
        }
      ]
    },
    {
      "cell_type": "code",
      "source": [
        "#Q15. Write a code to create a tuple containing three different fruits and check if \"kiwi\" is in it.#\n",
        "fruits = (\"apple\", \"banana\", \"orange\")\n",
        "\n",
        "if \"kiwi\" in fruits:\n",
        "    print(\"Kiwi is in the tuple.\")\n",
        "else:\n",
        "    print(\"Kiwi is NOT in the tuple.\")"
      ],
      "metadata": {
        "colab": {
          "base_uri": "https://localhost:8080/"
        },
        "id": "o52MGbDhYA8u",
        "outputId": "96c9048f-6840-491b-ba71-5691eb2afb88"
      },
      "execution_count": 20,
      "outputs": [
        {
          "output_type": "stream",
          "name": "stdout",
          "text": [
            "Kiwi is NOT in the tuple.\n"
          ]
        }
      ]
    },
    {
      "cell_type": "code",
      "source": [
        "#Q16. Write a code to create a set with the elements 'a', 'b', 'c' and print it.\n",
        "my_set = {'a', 'b', 'c'}\n",
        "\n",
        "\n",
        "print(my_set)"
      ],
      "metadata": {
        "colab": {
          "base_uri": "https://localhost:8080/"
        },
        "id": "b_S8zkn2YwLC",
        "outputId": "b9f4681b-5004-4ab3-e4fb-99717bcc0dc5"
      },
      "execution_count": 21,
      "outputs": [
        {
          "output_type": "stream",
          "name": "stdout",
          "text": [
            "{'a', 'c', 'b'}\n"
          ]
        }
      ]
    },
    {
      "cell_type": "code",
      "source": [
        "#Q17. Write a code to clear all elements from the set {1,2,3,4,5}.#\n",
        "numbers = {1, 2, 3, 4, 5}\n",
        "\n",
        "numbers.clear()\n",
        "\n",
        "print(numbers)"
      ],
      "metadata": {
        "colab": {
          "base_uri": "https://localhost:8080/"
        },
        "id": "dYmCm11iZH3B",
        "outputId": "2265673f-abe6-4d9b-b5d2-dab515e820cb"
      },
      "execution_count": 22,
      "outputs": [
        {
          "output_type": "stream",
          "name": "stdout",
          "text": [
            "set()\n"
          ]
        }
      ]
    },
    {
      "cell_type": "code",
      "source": [
        "#Q18. Write a code to remove the element 4 from the set {1,2,3,4}.#\n",
        "numbers = {1, 2, 3, 4}\n",
        "\n",
        "numbers.remove(4)\n",
        "\n",
        "print(numbers)"
      ],
      "metadata": {
        "colab": {
          "base_uri": "https://localhost:8080/"
        },
        "id": "L31DU0-1Zn0R",
        "outputId": "6961064e-b23b-4ab4-9aa2-dedba4b6a6c2"
      },
      "execution_count": 23,
      "outputs": [
        {
          "output_type": "stream",
          "name": "stdout",
          "text": [
            "{1, 2, 3}\n"
          ]
        }
      ]
    },
    {
      "cell_type": "code",
      "source": [
        "#Q19. Write a code to find the union of two sets {1,2,3} and {3,4,5}.#\n",
        "\n",
        "set1 = {1, 2, 3}\n",
        "set2 = {3, 4, 5}\n",
        "\n",
        "union_set = set1.union(set2)\n",
        "\n",
        "print(union_set)"
      ],
      "metadata": {
        "colab": {
          "base_uri": "https://localhost:8080/"
        },
        "id": "ccZd2hFuaKcy",
        "outputId": "debf7d47-16e0-4e4f-cbfa-7b9edba92f32"
      },
      "execution_count": 24,
      "outputs": [
        {
          "output_type": "stream",
          "name": "stdout",
          "text": [
            "{1, 2, 3, 4, 5}\n"
          ]
        }
      ]
    },
    {
      "cell_type": "code",
      "source": [
        "#Q20. Write a code to find the intersection of two sets {1,2,3} and {2,3,4}.#\n",
        "set1 = {1, 2, 3}\n",
        "set2 = {2, 3, 4}\n",
        "\n",
        "intersection_set = set1.intersection(set2)\n",
        "\n",
        "print(intersection_set)\n"
      ],
      "metadata": {
        "colab": {
          "base_uri": "https://localhost:8080/"
        },
        "id": "1a-PXWvhahJA",
        "outputId": "eb0bde72-fd58-431f-91fb-234322351d6a"
      },
      "execution_count": 25,
      "outputs": [
        {
          "output_type": "stream",
          "name": "stdout",
          "text": [
            "{2, 3}\n"
          ]
        }
      ]
    },
    {
      "cell_type": "code",
      "source": [
        "#Q21.Write a code to create a dictionary with the keys \"name\", \"age\" and \"city\" , and print it.#\n",
        "person = {\n",
        "    \"name\": \"Shweta\",\n",
        "    \"age\": 26,\n",
        "    \"city\": \"Jaipur\"\n",
        "}\n",
        "\n",
        "print(person)"
      ],
      "metadata": {
        "colab": {
          "base_uri": "https://localhost:8080/"
        },
        "id": "eMd0f6f7bAGL",
        "outputId": "da09166d-310c-4241-fff5-e97df7f6bc1e"
      },
      "execution_count": 27,
      "outputs": [
        {
          "output_type": "stream",
          "name": "stdout",
          "text": [
            "{'name': 'Shweta', 'age': 26, 'city': 'Jaipur'}\n"
          ]
        }
      ]
    },
    {
      "cell_type": "code",
      "source": [
        "#Q22. Write a code to add a new key-value pair \"country\": \"USA\" to the dictionary {'name': 'John', 'age': 25}.#\n",
        "person = {'name': 'John', 'age': 25}\n",
        "\n",
        "person['country'] = 'USA'\n",
        "\n",
        "print(person)"
      ],
      "metadata": {
        "colab": {
          "base_uri": "https://localhost:8080/"
        },
        "id": "uM6iRn-zbdM0",
        "outputId": "0c74b2a0-0714-4971-859b-bc01ad971219"
      },
      "execution_count": 28,
      "outputs": [
        {
          "output_type": "stream",
          "name": "stdout",
          "text": [
            "{'name': 'John', 'age': 25, 'country': 'USA'}\n"
          ]
        }
      ]
    },
    {
      "cell_type": "code",
      "source": [
        "#Q23. Write a code to access the value associated with the key \"name\" in the dictionary {'name': ' Alice', 'age': 30}.#\n",
        "person = {'name': 'Alice', 'age': 30}\n",
        "\n",
        "name_value = person['name']\n",
        "\n",
        "print(name_value)\n"
      ],
      "metadata": {
        "colab": {
          "base_uri": "https://localhost:8080/"
        },
        "id": "_3SrEKDNcIgz",
        "outputId": "1c660545-9340-4258-d77d-304599ae0c47"
      },
      "execution_count": 29,
      "outputs": [
        {
          "output_type": "stream",
          "name": "stdout",
          "text": [
            "Alice\n"
          ]
        }
      ]
    },
    {
      "cell_type": "code",
      "source": [
        "#Q24. Write a code to remove the key \"age\" from the dictionary {'name': 'Bob', 'age': 22, 'city': 'New York'}.#\n",
        "person = {'name': 'Bob', 'age': 22, 'city': 'New York'}\n",
        "\n",
        "del person['age']\n",
        "\n",
        "print(person)\n",
        "\n",
        "\n"
      ],
      "metadata": {
        "colab": {
          "base_uri": "https://localhost:8080/"
        },
        "id": "Aw5qDD9BcomV",
        "outputId": "435b3bba-08bd-48fd-8713-98ea0cb40654"
      },
      "execution_count": 30,
      "outputs": [
        {
          "output_type": "stream",
          "name": "stdout",
          "text": [
            "{'name': 'Bob', 'city': 'New York'}\n"
          ]
        }
      ]
    },
    {
      "cell_type": "code",
      "source": [
        "#Q25.  Write a code to check if the key \"city\" exists in the dictionary {'name': 'Alice', 'city': 'Paris'}.#\n",
        "person = {'name': 'Alice', 'city': 'Paris'}\n",
        "\n",
        "if 'city' in person:\n",
        "    print(\"The key 'city' exists in the dictionary.\")\n",
        "else:\n",
        "    print(\"The key 'city' does not exist in the dictionary.\")\n"
      ],
      "metadata": {
        "colab": {
          "base_uri": "https://localhost:8080/"
        },
        "id": "sDFhh9npc8__",
        "outputId": "4ace77ac-3cf5-4bd3-9024-74266f82b599"
      },
      "execution_count": 31,
      "outputs": [
        {
          "output_type": "stream",
          "name": "stdout",
          "text": [
            "The key 'city' exists in the dictionary.\n"
          ]
        }
      ]
    },
    {
      "cell_type": "code",
      "source": [
        "#Q26. Write a code to create a list, a tuple, and a dictionary, and print them all.#\n",
        "my_list = [1, 2, 3]\n",
        "\n",
        "my_tuple = ('a', 'b', 'c')\n",
        "\n",
        "my_dict = {'name': 'Alice', 'age': 30}\n",
        "\n",
        "print(\"List:\", my_list)\n",
        "print(\"Tuple:\", my_tuple)\n",
        "print(\"Dictionary:\", my_dict)\n"
      ],
      "metadata": {
        "colab": {
          "base_uri": "https://localhost:8080/"
        },
        "id": "EcVrW1g3dI2X",
        "outputId": "f84fa241-679e-46ca-9de3-41c0fa3f086e"
      },
      "execution_count": 35,
      "outputs": [
        {
          "output_type": "stream",
          "name": "stdout",
          "text": [
            "List: [1, 2, 3]\n",
            "Tuple: ('a', 'b', 'c')\n",
            "Dictionary: {'name': 'Alice', 'age': 30}\n"
          ]
        }
      ]
    },
    {
      "cell_type": "code",
      "source": [
        "#Q27. Write a code to create a list of 5 random numbers between 1 and 100, sort it in ascending order, and print the result.(replaced)#\n",
        "\n",
        "\n",
        "import random\n",
        "\n",
        "random_numbers = [random.randint(1, 100) for _ in range(5)]\n",
        "\n",
        "random_numbers.sort()\n",
        "\n",
        "print(random_numbers)"
      ],
      "metadata": {
        "colab": {
          "base_uri": "https://localhost:8080/"
        },
        "id": "rRiXCPBldgHP",
        "outputId": "15dfa3ef-c7d4-4272-c958-106ca85fb99a"
      },
      "execution_count": 38,
      "outputs": [
        {
          "output_type": "stream",
          "name": "stdout",
          "text": [
            "[13, 46, 64, 74, 75]\n"
          ]
        }
      ]
    },
    {
      "cell_type": "code",
      "source": [
        "#Q28.Write a code to create a list with strings and print the element at the third index.#\n",
        "my_list = [\"apple\", \"banana\", \"cherry\", \"date\", \"elderberry\"]\n",
        "\n",
        "third_element = my_list[3]\n",
        "\n",
        "print(third_element)\n"
      ],
      "metadata": {
        "colab": {
          "base_uri": "https://localhost:8080/"
        },
        "id": "--1vBt7dd_n0",
        "outputId": "ccf0936d-5195-4049-c567-59dde2fcd8ee"
      },
      "execution_count": 40,
      "outputs": [
        {
          "output_type": "stream",
          "name": "stdout",
          "text": [
            "date\n"
          ]
        }
      ]
    },
    {
      "cell_type": "code",
      "source": [
        "#Q29. Write a code to combine two dictionaries into one and print the result.#\n",
        "dict1 = {'a': 1, 'b': 2}\n",
        "\n",
        "dict2 = {'c': 3, 'd': 4}\n",
        "\n",
        "combined_dict = dict1 | dict2\n",
        "\n",
        "print(combined_dict)"
      ],
      "metadata": {
        "colab": {
          "base_uri": "https://localhost:8080/"
        },
        "id": "AytfpNwLeZsN",
        "outputId": "231d2a96-2c39-4f1a-dec8-27783331dfa5"
      },
      "execution_count": 41,
      "outputs": [
        {
          "output_type": "stream",
          "name": "stdout",
          "text": [
            "{'a': 1, 'b': 2, 'c': 3, 'd': 4}\n"
          ]
        }
      ]
    },
    {
      "cell_type": "code",
      "source": [
        "#Q30. Write a code to convert a list of strings into a set.#\n",
        "my_list = [\"apple\", \"banana\", \"cherry\", \"apple\", \"banana\"]\n",
        "\n",
        "my_set = set(my_list)\n",
        "\n",
        "print(my_set)\n"
      ],
      "metadata": {
        "colab": {
          "base_uri": "https://localhost:8080/"
        },
        "id": "iLxuxXG-eqoP",
        "outputId": "b9d06f9b-fdd3-4bed-daf3-36c67a78b702"
      },
      "execution_count": 42,
      "outputs": [
        {
          "output_type": "stream",
          "name": "stdout",
          "text": [
            "{'cherry', 'apple', 'banana'}\n"
          ]
        }
      ]
    }
  ]
}